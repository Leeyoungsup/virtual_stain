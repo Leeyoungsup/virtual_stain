{
 "cells": [
  {
   "cell_type": "code",
   "execution_count": null,
   "metadata": {},
   "outputs": [],
   "source": [
    "import numpy as np\n",
    "import slideio\n",
    "import cv2\n",
    "import json\n",
    "import matplotlib.path as mpltPath\n",
    "import os\n",
    "import warnings\n",
    "import tifffile\n",
    "from skimage import exposure\n",
    "from skimage.exposure import match_histograms\n",
    "import xml.etree.ElementTree as ET\n",
    "import pandas as pd\n",
    "from PIL import Image\n",
    "from math import sqrt\n",
    "import matplotlib.pyplot as plt\n",
    "from glob import glob\n",
    "from copy import copy\n",
    "from tqdm.notebook import tqdm\n",
    "import warnings\n",
    "import staintools\n",
    "\n",
    "# 경고 메시지를 무시하도록 설정s\n",
    "warnings.filterwarnings(\"ignore\")"
   ]
  },
  {
   "cell_type": "code",
   "execution_count": null,
   "metadata": {},
   "outputs": [],
   "source": [
    "protein_expression_list=glob('../../data/virtual_stain/image_surf/svs/**/*.svs')\n",
    "protein_expression_save_list=[f.replace('svs/', 'thumb/') for f in protein_expression_list]\n",
    "df = pd.DataFrame(columns=['slide','stain','ratio'])\n",
    "def size_ratio(scene,img_size):\n",
    "    width = scene.rect[2]\n",
    "    height = scene.rect[3]\n",
    "    ratio=0\n",
    "    inverse_ratio=0\n",
    "    img_width=0\n",
    "    img_height=0\n",
    "    if width>height:\n",
    "        ratio=img_size/width\n",
    "        inverse_ratio=width/img_size\n",
    "        img_width=img_size\n",
    "        img_height=height*ratio\n",
    "    else:\n",
    "        ratio=img_size/height\n",
    "        inverse_ratio=height/img_size\n",
    "        img_height=img_size\n",
    "        img_width=width*ratio\n",
    "        \n",
    "    return int(img_width),int(img_height),inverse_ratio\n",
    "\n",
    "    "
   ]
  },
  {
   "cell_type": "code",
   "execution_count": null,
   "metadata": {},
   "outputs": [],
   "source": [
    "for i in tqdm(range(len(protein_expression_list))):\n",
    "    slide = slideio.open_slide(protein_expression_list[i], \"SVS\")\n",
    "    num_scenes = slide.num_scenes\n",
    "    scene = slide.get_scene(0)\n",
    "    img_width,img_height,ratio=size_ratio(scene,2048)\n",
    "    svsWidth = scene.rect[2]\n",
    "    svsHeight = scene.rect[3]\n",
    "    slide_block = scene.read_block((0, 0, svsWidth, svsHeight),size=(int(img_width), int(img_height)))\n",
    "    image=cv2.cvtColor(slide_block, cv2.COLOR_BGR2RGB)\n",
    "    slide_name=os.path.splitext(os.path.basename(protein_expression_list[i]))[0]\n",
    "    stain_name=os.path.basename(os.path.dirname(protein_expression_list[i])) \n",
    "    sample=[slide_name,stain_name,ratio]       \n",
    "    df.loc[i]=sample\n",
    "    cv2.imwrite(os.path.splitext(protein_expression_save_list[i])[0]+'.tiff', image)"
   ]
  },
  {
   "cell_type": "code",
   "execution_count": null,
   "metadata": {},
   "outputs": [],
   "source": [
    "for i in tqdm(range(len(protein_expression_list))):\n",
    "    slide = slideio.open_slide(protein_expression_list[i], \"SVS\")\n",
    "    num_scenes = slide.num_scenes\n",
    "    scene = slide.get_scene(0)\n",
    "    img_width,img_height,ratio=size_ratio(scene,2048)\n",
    "    slide_name=os.path.splitext(os.path.basename(protein_expression_list[i]))[0]\n",
    "    stain_name=os.path.basename(os.path.dirname(protein_expression_list[i])) \n",
    "    sample=[slide_name,stain_name,ratio]       \n",
    "    df.loc[i]=sample"
   ]
  },
  {
   "cell_type": "code",
   "execution_count": 7,
   "metadata": {},
   "outputs": [],
   "source": [
    "df.to_csv('../../data/virtual_stain/image_surf/data_frame.csv',index=False)"
   ]
  }
 ],
 "metadata": {
  "kernelspec": {
   "display_name": "LeeYS",
   "language": "python",
   "name": "python3"
  },
  "language_info": {
   "codemirror_mode": {
    "name": "ipython",
    "version": 3
   },
   "file_extension": ".py",
   "mimetype": "text/x-python",
   "name": "python",
   "nbconvert_exporter": "python",
   "pygments_lexer": "ipython3",
   "version": "3.9.0"
  },
  "orig_nbformat": 4
 },
 "nbformat": 4,
 "nbformat_minor": 2
}
