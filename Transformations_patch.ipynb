{
 "cells": [
  {
   "cell_type": "code",
   "execution_count": 1,
   "metadata": {},
   "outputs": [],
   "source": [
    "import numpy as np \n",
    "import os\n",
    "import pandas as pd\n",
    "from PIL import Image\n",
    "import staintools\n",
    "import torch\n",
    "device0 = torch.device(\"cuda:3\" if torch.cuda.is_available() else \"cpu\")"
   ]
  },
  {
   "cell_type": "code",
   "execution_count": 2,
   "metadata": {},
   "outputs": [
    {
     "data": {
      "text/plain": [
       "====================================================================================================\n",
       "Layer (type:depth-idx)                             Output Shape              Param #\n",
       "====================================================================================================\n",
       "OmniScaleCNN                                       [128, 1]                  --\n",
       "├─Sequential: 1-1                                  [128, 266, 3000]          --\n",
       "│    └─build_layer_with_layer_parameter: 2-1       [128, 133, 3000]          --\n",
       "│    │    └─ModuleList: 3-1                        --                        45,083\n",
       "│    └─build_layer_with_layer_parameter: 2-2       [128, 133, 3000]          --\n",
       "│    │    └─ModuleList: 3-2                        --                        5,943,371\n",
       "│    └─build_layer_with_layer_parameter: 2-3       [128, 266, 3000]          --\n",
       "│    │    └─ModuleList: 3-3                        --                        53,865\n",
       "├─GAP1d: 1-2                                       [128, 266]                --\n",
       "│    └─AdaptiveAvgPool1d: 2-4                      [128, 266, 1]             --\n",
       "│    └─Reshape: 2-5                                [128, 266]                --\n",
       "├─Linear: 1-3                                      [128, 1]                  267\n",
       "====================================================================================================\n",
       "Total params: 6,042,586\n",
       "Trainable params: 6,042,586\n",
       "Non-trainable params: 0\n",
       "Total mult-adds (T): 2.32\n",
       "====================================================================================================\n",
       "Input size (MB): 1.54\n",
       "Forward/backward pass size (MB): 3268.61\n",
       "Params size (MB): 24.17\n",
       "Estimated Total Size (MB): 3294.32\n",
       "===================================================================================================="
      ]
     },
     "execution_count": 2,
     "metadata": {},
     "output_type": "execute_result"
    }
   ],
   "source": [
    "from tsai.all import *\n",
    "\n",
    "bs = 128\n",
    "nvars = 1\n",
    "seq_len = 3000\n",
    "c_out = 1\n",
    "xb = torch.rand(bs, nvars, seq_len)\n",
    "model =TCN(1, c_out, seq_len).to(device0)\n",
    "from torchinfo import summary\n",
    "summary(model,(bs,1,3000))\n"
   ]
  },
  {
   "cell_type": "code",
   "execution_count": null,
   "metadata": {},
   "outputs": [],
   "source": []
  }
 ],
 "metadata": {
  "kernelspec": {
   "display_name": "LeeYS",
   "language": "python",
   "name": "python3"
  },
  "language_info": {
   "codemirror_mode": {
    "name": "ipython",
    "version": 3
   },
   "file_extension": ".py",
   "mimetype": "text/x-python",
   "name": "python",
   "nbconvert_exporter": "python",
   "pygments_lexer": "ipython3",
   "version": "3.9.0"
  }
 },
 "nbformat": 4,
 "nbformat_minor": 2
}
