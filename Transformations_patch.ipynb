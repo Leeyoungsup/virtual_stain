{
 "cells": [
  {
   "cell_type": "code",
   "execution_count": 1,
   "metadata": {},
   "outputs": [],
   "source": [
    "import numpy as np \n",
    "import os\n",
    "import pandas as pd\n",
    "from PIL import Image\n",
    "import slideio\n"
   ]
  },
  {
   "cell_type": "code",
   "execution_count": 2,
   "metadata": {},
   "outputs": [],
   "source": [
    "Transfer_df=pd.read_csv('../../data/100x_Transfer.csv')\n",
    "HE_svs_path='../../data/svs/HE/'\n",
    "stain_svs_path='../../data/svs/'"
   ]
  },
  {
   "cell_type": "code",
   "execution_count": 5,
   "metadata": {},
   "outputs": [
    {
     "data": {
      "text/plain": [
       "slide    S21-21487-5\n",
       "stain           CD10\n",
       "x                -16\n",
       "y                480\n",
       "angle             -4\n",
       "Name: 0, dtype: object"
      ]
     },
     "execution_count": 5,
     "metadata": {},
     "output_type": "execute_result"
    }
   ],
   "source": [
    "i=0\n",
    "fileName=Transfer_df.loc[i]['slide']\n",
    "HE_slide = slideio.open_slide(svs_files[i], \"SVS\")\n",
    "scene = slide.get_scene(0)\n",
    "svsWidth = scene.rect[2]\n",
    "svsHeight = scene.rect[3]\n",
    "imageCount=0\n",
    "magnification=80\n",
    "tile_size=256\n",
    "xml_open=xml_files[i]\n",
    "polygon_xml = ET.parse(xml_open)"
   ]
  }
 ],
 "metadata": {
  "kernelspec": {
   "display_name": "LeeYS",
   "language": "python",
   "name": "python3"
  },
  "language_info": {
   "codemirror_mode": {
    "name": "ipython",
    "version": 3
   },
   "file_extension": ".py",
   "mimetype": "text/x-python",
   "name": "python",
   "nbconvert_exporter": "python",
   "pygments_lexer": "ipython3",
   "version": "3.9.0"
  }
 },
 "nbformat": 4,
 "nbformat_minor": 2
}
