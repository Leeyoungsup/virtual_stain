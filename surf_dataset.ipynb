{
 "cells": [
  {
   "cell_type": "code",
   "execution_count": 1,
   "metadata": {},
   "outputs": [],
   "source": [
    "import numpy as np\n",
    "import slideio\n",
    "import cv2\n",
    "import json\n",
    "import matplotlib.path as mpltPath\n",
    "import os\n",
    "import warnings\n",
    "import tifffile\n",
    "from skimage import exposure\n",
    "from skimage.exposure import match_histograms\n",
    "import xml.etree.ElementTree as ET\n",
    "import pandas as pd\n",
    "from PIL import Image\n",
    "from math import sqrt\n",
    "import matplotlib.pyplot as plt\n",
    "from glob import glob\n",
    "from copy import copy\n",
    "from tqdm.notebook import tqdm\n",
    "import warnings\n",
    "import staintools\n",
    "import shutil\n",
    "# 경고 메시지를 무시하도록 설정s\n",
    "warnings.filterwarnings(\"ignore\")\n",
    "\n",
    "def createDirectory(directory):\n",
    "    try:\n",
    "        if not os.path.exists(directory):\n",
    "            os.makedirs(directory)\n",
    "    except OSError:\n",
    "        print(\"Error: Failed to create the directory.\")"
   ]
  },
  {
   "cell_type": "code",
   "execution_count": 2,
   "metadata": {},
   "outputs": [],
   "source": [
    "svs_folder_path='../../data/virtual_stain/image_surf/svs/'\n",
    "thumb_folder_path='../../data/virtual_stain/image_surf/thumb/'\n",
    "ori_svs_path='../../../gcu_pathlogy/data/OriginalData/svs/'\n",
    "slide_list=glob('../../data/virtual_stain/gcu_stain/*.svs')\n",
    "stain_list=copy(slide_list)\n",
    "file_list=copy(slide_list)\n",
    "for i in range(len(slide_list)):\n",
    "    slide_name=os.path.basename(slide_list[i])\n",
    "    stain_list[i]=slide_name[slide_name.find(' ')+1:-4]\n",
    "    file_list[i]=slide_name[:slide_name.find(' ')]"
   ]
  },
  {
   "cell_type": "code",
   "execution_count": 3,
   "metadata": {},
   "outputs": [],
   "source": [
    "stain_list=list(set(stain_list))\n",
    "file_list=list(set(file_list))\n",
    "stain_list.append('HE')\n",
    "for i in range(len(stain_list)):\n",
    "    createDirectory(svs_folder_path+stain_list[i])\n",
    "    createDirectory(thumb_folder_path+stain_list[i])"
   ]
  },
  {
   "cell_type": "code",
   "execution_count": 4,
   "metadata": {},
   "outputs": [
    {
     "data": {
      "application/vnd.jupyter.widget-view+json": {
       "model_id": "99f65005373d497abe659d1e6aa6f4d9",
       "version_major": 2,
       "version_minor": 0
      },
      "text/plain": [
       "  0%|          | 0/23 [00:00<?, ?it/s]"
      ]
     },
     "metadata": {},
     "output_type": "display_data"
    },
    {
     "name": "stdout",
     "output_type": "stream",
     "text": [
      "../../../gcu_pathlogy/data/OriginalData/svs/S21-30016-2.svs\n",
      "../../../gcu_pathlogy/data/OriginalData/svs/S22-08675-1.svs\n",
      "../../../gcu_pathlogy/data/OriginalData/svs/S22-18009-9.svs\n",
      "../../../gcu_pathlogy/data/OriginalData/svs/S22-21614-10.svs\n",
      "../../../gcu_pathlogy/data/OriginalData/svs/S22-20342-6.svs\n",
      "../../../gcu_pathlogy/data/OriginalData/svs/S21-06192-4.svs\n",
      "../../../gcu_pathlogy/data/OriginalData/svs/S21-06192-6.svs\n",
      "../../../gcu_pathlogy/data/OriginalData/svs/S21-06192-5.svs\n"
     ]
    }
   ],
   "source": [
    "for i in tqdm(range(len(file_list))):\n",
    "    try:\n",
    "        shutil.move(ori_svs_path+file_list[i]+'.svs',svs_folder_path + \"HE/\"+file_list[i]+'.svs')\n",
    "        for j in range(len(slide_list)):\n",
    "            if slide_list[j].find(file_list[i])!=-1:\n",
    "                slide_name=os.path.basename(slide_list[j])\n",
    "                shutil.move(slide_list[j],svs_folder_path +slide_name[slide_name.find(' ')+1:-4]+\"/\"+file_list[i]+'.svs')\n",
    "    except:\n",
    "        print(ori_svs_path+file_list[i]+'.svs')"
   ]
  }
 ],
 "metadata": {
  "kernelspec": {
   "display_name": "LeeYS",
   "language": "python",
   "name": "python3"
  },
  "language_info": {
   "codemirror_mode": {
    "name": "ipython",
    "version": 3
   },
   "file_extension": ".py",
   "mimetype": "text/x-python",
   "name": "python",
   "nbconvert_exporter": "python",
   "pygments_lexer": "ipython3",
   "version": "3.9.0"
  }
 },
 "nbformat": 4,
 "nbformat_minor": 2
}
